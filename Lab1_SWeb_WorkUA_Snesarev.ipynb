{
 "cells": [
  {
   "cell_type": "code",
   "execution_count": 6,
   "metadata": {},
   "outputs": [
    {
     "data": {
      "text/plain": [
       "<xml.etree.ElementTree.ElementTree at 0x21952ae3be0>"
      ]
     },
     "execution_count": 6,
     "metadata": {},
     "output_type": "execute_result"
    }
   ],
   "source": [
    "from xml.dom.minidom import parseString\n",
    "from xml.etree.ElementTree import Element, SubElement, ElementTree\n",
    "from bs4 import BeautifulSoup\n",
    "import dicttoxml\n",
    "import requests\n",
    "import re\n",
    "\n",
    "url = 'https://www.work.ua/jobs-it/?advs=1&salaryto=9'\n",
    "r=requests.get(url).text\n",
    "soup=BeautifulSoup(r, 'lxml')\n",
    "l=soup.find_all('div', class_ = \"card card-hover card-visited wordwrap job-link js-hot-block\")\n",
    "d=dict()\n",
    "def pars():\n",
    "    items_list = Element('items_list')\n",
    "    for kll in range(len(l)):\n",
    "        \n",
    "        for i in l:\n",
    "            prof=i.h2.a.text\n",
    "            d['job']=prof\n",
    "            money=i.div.b.text.encode().decode()\n",
    "            money=money.replace(\"\\u2009\", \"\")\n",
    "            money=money.replace(\"\\u202f\", \"\")\n",
    "            money=money.replace(\"\\xa0грн\", \"\")\n",
    "            d['salary']=money\n",
    "            company=i.find('div', class_ = \"add-top-xs\").span.b.text\n",
    "            d['company']=company\n",
    "            city=i.find('div', class_ = \"add-top-xs\").text.split()\n",
    "            if city[-1] == 'центру':\n",
    "                k=city[-6]\n",
    "                d['city']=k\n",
    "            else:\n",
    "                kk=city[-1]\n",
    "                d['city']=kk\n",
    "            work = SubElement(items_list, 'work')\n",
    "            work.set('id', 'element ' + str(kll))\n",
    "            kll=kll+1\n",
    "            job = SubElement(work, 'job')\n",
    "            job.text = d['job']\n",
    "            company_name = SubElement(work, 'company_name')\n",
    "            company_name.text = d['company']\n",
    "            salary = SubElement(work, 'salary')\n",
    "            salary.set('currency', 'hrivna')\n",
    "            salary.text = d['salary']\n",
    "            city = SubElement(work, 'city')\n",
    "            city.text = d['city']\n",
    "        tree = ElementTree(items_list)\n",
    "        tree.write('workua.xml', encoding='UTF-8', xml_declaration=True)\n",
    "\n",
    "        return tree   \n",
    "\n",
    "pars()"
   ]
  },
  {
   "cell_type": "code",
   "execution_count": null,
   "metadata": {},
   "outputs": [],
   "source": []
  }
 ],
 "metadata": {
  "kernelspec": {
   "display_name": "Python 3",
   "language": "python",
   "name": "python3"
  },
  "language_info": {
   "codemirror_mode": {
    "name": "ipython",
    "version": 3
   },
   "file_extension": ".py",
   "mimetype": "text/x-python",
   "name": "python",
   "nbconvert_exporter": "python",
   "pygments_lexer": "ipython3",
   "version": "3.7.1"
  }
 },
 "nbformat": 4,
 "nbformat_minor": 2
}
